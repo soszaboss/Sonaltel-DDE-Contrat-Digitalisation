{
 "cells": [
  {
   "metadata": {},
   "cell_type": "markdown",
   "source": [
    "### **Génération Dynamique d'un Contrat Commercial avec ReportLab et Platypus : Création et Gestion des Sections Dynamique pour un Contrat Personnalisé\"**\n",
    "\n",
    "#### *Description : Ce notebook guide la création d'un contrat commercial dynamique, où les sections du contrat sont générées à partir de données d'entrée. Utilisant les bibliothèques Python ReportLab et Platypus, chaque section du contrat est facilement modifiable et structurée, permettant une personnalisation complète des informations telles que les services, la compensation, et les informations des parties prenantes.*"
   ],
   "id": "a0b6b13cf6d47c86"
  },
  {
   "metadata": {
    "ExecuteTime": {
     "end_time": "2024-12-11T16:43:49.107169Z",
     "start_time": "2024-12-11T16:43:49.098874Z"
    }
   },
   "cell_type": "code",
   "source": [
    "from docutils.utils.math.tex2unichar import space\n",
    "from reportlab.pdfgen import canvas\n",
    "from reportlab.lib.units import inch\n",
    "from reportlab.lib.pagesizes import A4\n",
    "from reportlab.platypus import BaseDocTemplate, Frame, PageTemplate, Table, TableStyle, Paragraph, PageBreak, Image, Spacer\n",
    "from reportlab.lib.styles import getSampleStyleSheet, ParagraphStyle\n",
    "from reportlab.lib import colors\n",
    "from datetime import datetime\n",
    "import uuid\n",
    "from faker import Faker\n",
    "from reportlab.pdfbase.ttfonts import TTFont\n",
    "from reportlab.pdfbase import pdfmetrics\n",
    "\n",
    "from io import BytesIO"
   ],
   "id": "fbc121e30a2defb3",
   "outputs": [],
   "execution_count": 1890
  },
  {
   "metadata": {},
   "cell_type": "markdown",
   "source": "# Génération du rapprot",
   "id": "711dcfcbf0840f0b"
  },
  {
   "metadata": {},
   "cell_type": "markdown",
   "source": "## Étape 1 : Planifier la structure du document",
   "id": "f9206d6e75eca767"
  },
  {
   "metadata": {},
   "cell_type": "markdown",
   "source": [
    "### 1. **Analyse du contrat :**\n",
    "   - Identification des grandes sections du document, comme :  \n",
    "     - Titre  \n",
    "     - Informations générales  \n",
    "     - Sections clés (SERVICES, COMPENSATION, CONFIDENTIALITÉ, etc.).  \n",
    "     - Signatures.  \n",
    "   - Déterminez où chaque section doit apparaître et la structure visuelle (alignement, espaces, etc.)."
   ],
   "id": "20689db5d23bb889"
  },
  {
   "metadata": {},
   "cell_type": "markdown",
   "source": [
    "### 2. **Découper les sections :**\n",
    "   - Chaque section sera une unité distincte que vous allez intégrer dans votre document.\n",
    "   - Posez-vous ces questions :\n",
    "     - Quelles sections doivent être sur une nouvelle page ?\n",
    "     - Quelles sections peuvent être regroupées ?\n",
    "   - Créez une liste ou un schéma avec l’ordre d’apparition des sections."
   ],
   "id": "a099a99bd0c27acb"
  },
  {
   "metadata": {},
   "cell_type": "markdown",
   "source": "#### a. INTRODUCTION",
   "id": "f15cf34ee12366ab"
  },
  {
   "metadata": {
    "ExecuteTime": {
     "end_time": "2024-12-11T16:43:49.162286Z",
     "start_time": "2024-12-11T16:43:49.152684Z"
    }
   },
   "cell_type": "code",
   "source": [
    "INTRO_DATA_DICT_KEYS = ['company_name', 'company_status', 'company_jurisdiction',\n",
    "                        'company_address', 'client_name', 'client_jurisdiction', 'client_address']\n",
    "\n",
    "def intro(intro_data: dict, styles):\n",
    "    if not intro_data:\n",
    "        raise ValueError(\"intro_data is empty\")\n",
    "    # if not isinstance(styles, dict) or not all(isinstance(v, ParagraphStyle) for v in styles.values()):\n",
    "    #     raise ValueError(\"styles must be a dictionary with ParagraphStyle objects\")\n",
    "    for key in INTRO_DATA_DICT_KEYS:\n",
    "        if key not in intro_data.keys():\n",
    "            raise ValueError(f\"{key} not in intro data\")\n",
    "    \n",
    "    today = datetime.today()\n",
    "    formatted_date = today.strftime(\"%d/%m/%Y\")\n",
    "    \n",
    "    # Construction des paragraphes avec les données dynamiques\n",
    "    items = [\n",
    "        Paragraph(\n",
    "            f\"Ce Contrat Commercial (« Contrat ») est conclu à ce <b>{formatted_date}</b> (« Date d'entrée en vigueur ») par et entre\", \n",
    "            styles['IntroStyle']  # Utilisation de style approprié\n",
    "        ),\n",
    "        Paragraph(\n",
    "            f\" <b>{intro_data['company_name']}</b>, une <b>{intro_data['company_status']}</b> organisée selon les lois de \"\n",
    "            f\"<b>{intro_data['company_jurisdiction']}</b> avec son principal lieu d'activité à \"\n",
    "            f\"<b>{intro_data['company_address']}</b> (« Votre entreprise »),\", \n",
    "            styles['IntroStyle']\n",
    "        ),\n",
    "        Paragraph(\"et\", styles['IntroStyle']),\n",
    "        Paragraph(\n",
    "            f\"<b>{intro_data['client_name']}</b>, une <b>{intro_data['client_status']}</b> organisée selon les lois de \"\n",
    "            f\"<b>{intro_data['client_jurisdiction']}</b> avec son principal établissement à \"\n",
    "            f\"<b>{intro_data['client_address']}</b> (« Client »)\", \n",
    "            styles['IntroStyle']\n",
    "        )\n",
    "    ]\n",
    "    \n",
    "    return items\n"
   ],
   "id": "140a5297ad109051",
   "outputs": [],
   "execution_count": 1891
  },
  {
   "metadata": {},
   "cell_type": "markdown",
   "source": "#### b. SERVICE",
   "id": "dbff2638efd5fee2"
  },
  {
   "metadata": {
    "ExecuteTime": {
     "end_time": "2024-12-11T16:43:49.208196Z",
     "start_time": "2024-12-11T16:43:49.203257Z"
    }
   },
   "cell_type": "code",
   "source": [
    "def services_section(ser: str):\n",
    "    if not ser:\n",
    "        raise ValueError(\"services_data is empty\")\n",
    "    return f\"\"\"\n",
    "        Votre Société s'engage à fournir les services suivants au Client : \n",
    "        <b>{ser}</b>.\n",
    "        \"\"\"\n"
   ],
   "id": "4064be815c98974e",
   "outputs": [],
   "execution_count": 1892
  },
  {
   "metadata": {},
   "cell_type": "markdown",
   "source": "### c. TERME",
   "id": "2d7960457a34895a"
  },
  {
   "metadata": {
    "ExecuteTime": {
     "end_time": "2024-12-11T16:43:49.221584Z",
     "start_time": "2024-12-11T16:43:49.216811Z"
    }
   },
   "cell_type": "code",
   "source": [
    "def term_section(term: str):\n",
    "    if not term:\n",
    "        raise ValueError(\"term is empty\")\n",
    "    return f\"\"\"\n",
    "        La durée du présent contrat sera de <b>{term}</b>, \n",
    "        à compter de la date d'entrée en vigueur, à moins qu'il ne soit résilié plus tôt \n",
    "        conformément aux termes du présent contrat.\n",
    "        \"\"\"\n"
   ],
   "id": "719e1c306622bd91",
   "outputs": [],
   "execution_count": 1893
  },
  {
   "metadata": {},
   "cell_type": "markdown",
   "source": "#### d. COMPENSATION",
   "id": "aa60ec203750f3d"
  },
  {
   "metadata": {
    "ExecuteTime": {
     "end_time": "2024-12-11T16:43:49.246057Z",
     "start_time": "2024-12-11T16:43:49.240199Z"
    }
   },
   "cell_type": "code",
   "source": [
    "def compensation_section(compensation: str):\n",
    "    if not compensation:\n",
    "        raise ValueError(\"compensation is empty\")\n",
    "    return f\"\"\"\n",
    "        Le Client s'engage à verser à Votre Société la rémunération suivante \n",
    "        pour les services rendus : <b>{compensation}</b>.\n",
    "        \"\"\"\n"
   ],
   "id": "eb646d232d5fe97b",
   "outputs": [],
   "execution_count": 1894
  },
  {
   "metadata": {},
   "cell_type": "markdown",
   "source": "#### e. CONFIDENTIALITÉ",
   "id": "f1a27c8752db000e"
  },
  {
   "metadata": {
    "ExecuteTime": {
     "end_time": "2024-12-11T16:43:49.267718Z",
     "start_time": "2024-12-11T16:43:49.262093Z"
    }
   },
   "cell_type": "code",
   "source": [
    "def confidentiality_section():\n",
    "    return \"\"\"\n",
    "        Votre Société et le Client reconnaissent que pendant la durée du présent Contrat, \n",
    "        ils peuvent avoir accès aux informations confidentielles de l'autre partie. \n",
    "        Les deux parties conviennent de maintenir la confidentialité de ces informations \n",
    "        et de ne pas les divulguer à des tiers sans le consentement écrit préalable de l'autre partie, sauf si la loi l'exige.\n",
    "        \"\"\"\n"
   ],
   "id": "9700cdecd0816904",
   "outputs": [],
   "execution_count": 1895
  },
  {
   "metadata": {},
   "cell_type": "markdown",
   "source": "#### e. PROPRIÉTÉ INTELLECTUELLE",
   "id": "232b7cd1f0b901db"
  },
  {
   "metadata": {
    "ExecuteTime": {
     "end_time": "2024-12-11T16:43:49.291991Z",
     "start_time": "2024-12-11T16:43:49.285565Z"
    }
   },
   "cell_type": "code",
   "source": [
    "def intellectual_property_section():\n",
    "    return \"\"\"\n",
    "        Toute propriété intellectuelle créée par Votre Société dans le cadre de la fourniture \n",
    "        des services en vertu du présent contrat restera la propriété de Votre Société, sauf accord écrit contraire. \n",
    "        Le Client disposera d'une licence non exclusive et non transférable pour utiliser cette propriété intellectuelle \n",
    "        uniquement aux fins pour lesquelles les services sont fournis.\n",
    "        \"\"\"\n"
   ],
   "id": "67ec6682eedce007",
   "outputs": [],
   "execution_count": 1896
  },
  {
   "metadata": {},
   "cell_type": "markdown",
   "source": "#### f. TERMINAISON",
   "id": "f2e92ae491e28fba"
  },
  {
   "metadata": {
    "ExecuteTime": {
     "end_time": "2024-12-11T16:43:49.315055Z",
     "start_time": "2024-12-11T16:43:49.309035Z"
    }
   },
   "cell_type": "code",
   "source": [
    "TERMINATION_DATA_DICT_KEYS = ['termination_notice', 'termination_remedy']\n",
    "\n",
    "def termination_section(termination_data: dict):\n",
    "    if not termination_data:\n",
    "        raise ValueError(\"termination_data is empty\")\n",
    "    for key in TERMINATION_DATA_DICT_KEYS:\n",
    "        if key not in termination_data.keys():\n",
    "            raise ValueError(f\"{key} not in termination data\")\n",
    "    return f\"\"\"\n",
    "        Chacune des parties peut résilier le présent Contrat pour des raisons de commodité moyennant un préavis écrit de \n",
    "        <b>{termination_data['termination_notice']} jours</b> à l'autre partie. Chaque partie peut également résilier le présent Contrat \n",
    "        pour un motif valable en cas de manquement important de la part de l'autre partie, à condition qu'un avis écrit de ce manquement \n",
    "        soit donné et que la partie défaillante dispose de <b>{termination_data['termination_remedy']} jours</b> pour remédier au manquement \n",
    "        après avoir reçu cet avis.\n",
    "        \"\"\"\n"
   ],
   "id": "c4c222ee49d470ad",
   "outputs": [],
   "execution_count": 1897
  },
  {
   "metadata": {},
   "cell_type": "markdown",
   "source": "#### g. LOI APPLICABLE",
   "id": "fe44f002bf4cf02a"
  },
  {
   "metadata": {
    "ExecuteTime": {
     "end_time": "2024-12-11T16:43:49.333442Z",
     "start_time": "2024-12-11T16:43:49.328533Z"
    }
   },
   "cell_type": "code",
   "source": [
    "LAW_DATA_DICT_KEYS = ['applicable_law', 'arbitration_rules']\n",
    "\n",
    "def law_section(law_content: dict):\n",
    "    if not law_content:\n",
    "        raise ValueError(\"law_data is empty\")\n",
    "    for key in LAW_DATA_DICT_KEYS:\n",
    "        if key not in law_content.keys():\n",
    "            raise ValueError(f\"{key} not in law data\")\n",
    "    return f\"\"\"\n",
    "        Ce Contrat sera régi et interprété conformément aux lois de <b>{law_content['applicable_law']}</b>. \n",
    "        Tout litige découlant de ou lié au présent Contrat sera résolu par arbitrage conformément aux règles de \n",
    "        <b>{law_content['arbitration_rules']}</b>, et le jugement sur la sentence rendue par le ou les arbitres pourra être \n",
    "        inscrit devant tout tribunal compétent.\n",
    "        \"\"\"\n"
   ],
   "id": "3a2b8ff1d22bfb86",
   "outputs": [],
   "execution_count": 1898
  },
  {
   "metadata": {},
   "cell_type": "markdown",
   "source": "#### h. Limitation des responsabilités",
   "id": "7f51f2998b6fe99"
  },
  {
   "metadata": {
    "ExecuteTime": {
     "end_time": "2024-12-11T16:43:49.350884Z",
     "start_time": "2024-12-11T16:43:49.347107Z"
    }
   },
   "cell_type": "code",
   "source": [
    "def limitation_responsabilite_section():\n",
    "    return \"\"\"\n",
    "    En aucun cas, l'une ou l'autre des parties ne pourra être tenue responsable envers l'autre partie de tout dommage indirect, \n",
    "    accidentel, consécutif, spécial ou punitif découlant de ou lié au présent Contrat, même si la partie a été informée de la \n",
    "    possibilité de tels dommages.\n",
    "    \"\"\""
   ],
   "id": "fc5acf375d6dc1f8",
   "outputs": [],
   "execution_count": 1899
  },
  {
   "metadata": {},
   "cell_type": "markdown",
   "source": "#### i. ACCORD INTÉGRAL",
   "id": "28aa2b8ab3cc2a36"
  },
  {
   "metadata": {
    "ExecuteTime": {
     "end_time": "2024-12-11T16:43:49.368692Z",
     "start_time": "2024-12-11T16:43:49.363191Z"
    }
   },
   "cell_type": "code",
   "source": [
    "def accord_integral_section():\n",
    "    return \"\"\"\n",
    "                Ce Contrat contient l'intégralité de l'accord des parties en ce qui concerne l'objet des présentes et remplace tous les accords et ententes antérieurs et contemporains, qu'ils soient oraux ou écrits. Le présent Contrat ne peut être amendé ou modifié que par écrit signé par les deux parties.\n",
    "            \"\"\""
   ],
   "id": "6c74eb5f17ac03a0",
   "outputs": [],
   "execution_count": 1900
  },
  {
   "metadata": {},
   "cell_type": "markdown",
   "source": "#### j. AFFECTATION",
   "id": "6bebed02156a5620"
  },
  {
   "metadata": {
    "ExecuteTime": {
     "end_time": "2024-12-11T16:43:49.390606Z",
     "start_time": "2024-12-11T16:43:49.384890Z"
    }
   },
   "cell_type": "code",
   "source": [
    "def affectation_section():\n",
    "    return \"\"\"\n",
    "            Aucune des parties ne peut céder ce Contrat ou tout droit ou obligation en vertu des présentes sans le consentement écrit préalable de l'autre partie, sauf que votre Société peut céder ce Contrat à toute société affiliée ou ayant cause sans un tel consentement.\n",
    "        \"\"\""
   ],
   "id": "453ba24feb6f80c4",
   "outputs": [],
   "execution_count": 1901
  },
  {
   "metadata": {},
   "cell_type": "markdown",
   "source": "#### k. Divisibilité",
   "id": "43e0b97360302c2d"
  },
  {
   "metadata": {
    "ExecuteTime": {
     "end_time": "2024-12-11T16:43:49.410372Z",
     "start_time": "2024-12-11T16:43:49.405477Z"
    }
   },
   "cell_type": "code",
   "source": [
    "def divisibilite_section():\n",
    "    return \"\"\"\n",
    "            Si une disposition de ce Contrat est jugée invalide, illégale ou inapplicable, les autres dispositions de ce Contrat ne seront pas affectées, et ce Contrat sera interprété comme si une telle disposition invalide, illégale ou inapplicable n'avait jamais été contenue dans les présentes. \n",
    "        \"\"\""
   ],
   "id": "40608ca02108c55a",
   "outputs": [],
   "execution_count": 1902
  },
  {
   "metadata": {},
   "cell_type": "markdown",
   "source": "#### l. SIGNATURES",
   "id": "cc9368880280324a"
  },
  {
   "metadata": {
    "ExecuteTime": {
     "end_time": "2024-12-11T16:43:49.432464Z",
     "start_time": "2024-12-11T16:43:49.424379Z"
    }
   },
   "cell_type": "code",
   "source": [
    "# Styles\n",
    "signature_styles = {\n",
    "    'DefaultStyle': ParagraphStyle(\n",
    "        name='Default',\n",
    "        fontName='Arial',\n",
    "        fontSize=12,\n",
    "        leading=15,\n",
    "        spaceAfter=12\n",
    "    ),\n",
    "    'UnderlineStyle': ParagraphStyle(\n",
    "        name='Underline',\n",
    "        fontName='Arial',\n",
    "        fontSize=12,\n",
    "        leading=15,\n",
    "        spaceAfter=12\n",
    "    )\n",
    "}\n",
    "\n",
    "def generate_signatures_section(signatures_data: dict, signature_styles: dict, styles):\n",
    "    \"\"\"\n",
    "    Génère les paragraphes pour la section des signatures.\n",
    "    \n",
    "    :param signatures_data: Dictionnaire contenant les données de l'entreprise et du client.\n",
    "    :param signature_styles: Dictionnaire de ParagraphStyles pour formater le texte.\n",
    "    :return: Liste de Paragraphs.\n",
    "    \"\"\"\n",
    "    if not signatures_data:\n",
    "        raise ValueError(\"signatures_data is empty\")\n",
    "    \n",
    "    # Vérifier que les clés nécessaires sont présentes\n",
    "    required_keys = ['company_name', 'company_email', 'company_address', \n",
    "                     'company_registration', 'client_name', 'client_email', 'client_address']\n",
    "    for key in required_keys:\n",
    "        if key not in signatures_data:\n",
    "            raise ValueError(f\"{key} is missing in signatures_data\")\n",
    "\n",
    "    # Liste des paragraphes à retourner\n",
    "    items = []\n",
    "\n",
    "    # Section Entreprise\n",
    "    items.append(Paragraph(\"<b>ENTREPRISE</b>\", styles['SubtitleStyle']))\n",
    "    items.append(Paragraph(f\"<u>{signatures_data['company_name']}</u>\", signature_styles['UnderlineStyle']))\n",
    "    items.append(Paragraph(f\"Par: <u>_______________________</u>\", signature_styles['DefaultStyle']))\n",
    "    items.append(Paragraph(f\"Position: <u>_______________________</u>\", signature_styles['DefaultStyle']))\n",
    "    items.append(Paragraph(f\"Signature: <u>_______________________</u>\", signature_styles['DefaultStyle']))\n",
    "    items.append(Paragraph(f\"E-mail: <u>{signatures_data['company_email']}</u>\", signature_styles['DefaultStyle']))\n",
    "    items.append(Paragraph(f\"Adresse: <u>{signatures_data['company_address']}</u>\", signature_styles['DefaultStyle']))\n",
    "    items.append(Paragraph(f\"Numéro d'enregistrement: <u>{signatures_data['company_registration']}</u>\", signature_styles['DefaultStyle']))\n",
    "    items.append(Paragraph(\" \", signature_styles['DefaultStyle']))  # Espace visuel\n",
    "\n",
    "    # Section Client\n",
    "    items.append(Paragraph(\"<b>CLIENT</b>\", styles['SubtitleStyle']))\n",
    "    items.append(Paragraph(f\"Nom du Client: <u>{signatures_data['client_name']}</u>\", signature_styles['DefaultStyle']))\n",
    "    items.append(Paragraph(f\"Signature: <u>_______________________</u>\", signature_styles['DefaultStyle']))\n",
    "    items.append(Paragraph(f\"Titre (le cas échéant): <u>_______________________</u>\", signature_styles['DefaultStyle']))\n",
    "    items.append(Paragraph(f\"E-mail: <u>{signatures_data['client_email']}</u>\", signature_styles['DefaultStyle']))\n",
    "    items.append(Paragraph(f\"Adresse: <u>{signatures_data['client_address']}</u>\", signature_styles['DefaultStyle']))\n",
    "    items.append(Paragraph(\" \", signature_styles['DefaultStyle']))  # Espace visuel\n",
    "\n",
    "    return items\n"
   ],
   "id": "16f3072fa09b6347",
   "outputs": [],
   "execution_count": 1903
  },
  {
   "metadata": {},
   "cell_type": "markdown",
   "source": "## **Étape 2 : Configurer la page et les marges**",
   "id": "7385bebcf96389c7"
  },
  {
   "metadata": {},
   "cell_type": "markdown",
   "source": [
    "### 1. **Comprendre les dimensions de la page :**\n",
    "   - Le format **A4** (595.27 x 841.89 points) est une bonne base pour un contrat.\n",
    "   - Décidez des **marges externes** :\n",
    "     - Exemples standards : \n",
    "       - Haut : 1 pouce (72 points).\n",
    "       - Bas : 1 pouce.\n",
    "       - Gauche/Droite : 0.75 pouce (54 points)."
   ],
   "id": "2f8924ac7e2500f2"
  },
  {
   "metadata": {},
   "cell_type": "markdown",
   "source": [
    "### 2. **Planifiez les marges internes (padding) pour le contenu :**\n",
    "   - Déterminez combien d’espace laisser entre les bords du contenu et les bords internes de chaque section.\n",
    "   - Décidez si certains éléments nécessitent plus de padding (par exemple, les sections importantes comme \"CONFIDENTIALITÉ\").\n"
   ],
   "id": "a5f0fed6497d18b3"
  },
  {
   "metadata": {
    "ExecuteTime": {
     "end_time": "2024-12-11T16:43:49.454955Z",
     "start_time": "2024-12-11T16:43:49.447762Z"
    }
   },
   "cell_type": "code",
   "source": [
    "def padding(left_padding:int|float=0.5, right_padding:int|float=0.5, top_padding:int|float=0.5, bottom_padding:int|float=0.5):\n",
    "    \"\"\"\n",
    "    Si vous avez des blocs contenant des éléments textuels denses, comme des tableaux, utilisez un padding réduit :\n",
    "    Exemple : leftPadding=18, rightPadding=18, topPadding=12, bottomPadding=12.\n",
    "    Pour des zones importantes ou pour aérer la mise en page, utilisez un padding plus grand :\n",
    "    Exemple : leftPadding=36, rightPadding=36, topPadding=36, bottomPadding=36.\n",
    "    \"\"\"\n",
    "    \n",
    "    \n",
    "    return dict(leftPadding=left_padding*inch, rightPadding=right_padding*inch, topPadding=top_padding*inch, bottomPadding=bottom_padding*inch)\n",
    "\n",
    "def margins(left_pargin:int|float=0.75, right_pargin:int|float=0.75, top_margin:int|float=1, bottom_margin:int|float=1):\n",
    "    # Documents A4 classiques\n",
    "    # 1 pouce en haut/bas, 0.75 pouce sur les côtés\n",
    "    \n",
    "    return dict(leftMargin=left_pargin*inch, rightMargin=right_pargin*inch, topMargin=top_margin*inch, bottomMargin=bottom_margin*inch)\n"
   ],
   "id": "3de4621784200f93",
   "outputs": [],
   "execution_count": 1904
  },
  {
   "metadata": {},
   "cell_type": "markdown",
   "source": [
    "### 3. **Créez un cadre (Frame) :**\n",
    "   - Imaginez un cadre où tout votre contenu sera contenu. Définissez les marges et paddings pour ce cadre.\n"
   ],
   "id": "290d292c686eab4a"
  },
  {
   "metadata": {
    "ExecuteTime": {
     "end_time": "2024-12-11T16:43:49.476415Z",
     "start_time": "2024-12-11T16:43:49.469871Z"
    }
   },
   "cell_type": "code",
   "source": [
    "def create_frame(padding_values: dict, a4_format: bool = False, **kwargs):\n",
    "    \"\"\"\n",
    "    Crée un cadre (Frame) avec des valeurs de padding et des dimensions personnalisées ou A4.\n",
    "    \n",
    "    Arguments :\n",
    "        padding_values (dict) : Dictionnaire contenant les paddings (left, right, top, bottom).\n",
    "        a4_format (bool) : Utilise le format A4 si True.\n",
    "        **kwargs : Dimensions personnalisées pour width et height si a4_format est False.\n",
    "\n",
    "    Retourne :\n",
    "        Frame : Objet Frame avec les dimensions et padding spécifiés.\n",
    "\n",
    "    Exceptions :\n",
    "        ValueError : Si width/height manquent ou padding_values n'est pas correctement formaté.\n",
    "    \"\"\"\n",
    "    if not padding_values:\n",
    "        raise ValueError(\"padding_values is missing or empty.\")\n",
    "\n",
    "    if a4_format:\n",
    "        # Utilise le format A4\n",
    "        return Frame(0, 0, *A4, **padding_values)\n",
    "    else:\n",
    "        # Dimensions personnalisées\n",
    "        width = kwargs.get('width')\n",
    "        height = kwargs.get('height')\n",
    "\n",
    "        if width is None or height is None:\n",
    "            raise ValueError(\"Height or width is missing.\")\n",
    "\n",
    "        if not isinstance(width, (float, int)) or not isinstance(height, (float, int)):\n",
    "            raise ValueError(\"Width and height must be of type float or int.\")\n",
    "\n",
    "        return Frame(0, 0, width, height, **padding_values)\n"
   ],
   "id": "b4ee7012a5eadc22",
   "outputs": [],
   "execution_count": 1905
  },
  {
   "metadata": {},
   "cell_type": "markdown",
   "source": "# **Étape 3 : Styliser le texte et les blocs**",
   "id": "fa58893153abfc6d"
  },
  {
   "metadata": {},
   "cell_type": "markdown",
   "source": "## 1. **Décidez des styles pour chaque type de contenu :**",
   "id": "3c5dc1c1c7508912"
  },
  {
   "metadata": {},
   "cell_type": "markdown",
   "source": [
    "### a. **Titre principal :**\n",
    " - Taille de police (ex. : 18 ou 24 points).\n",
    " - Alignement (ex. : centré).\n",
    " - Espacement après (un grand espace pour démarquer). "
   ],
   "id": "c8762f644e7be166"
  },
  {
   "metadata": {
    "ExecuteTime": {
     "end_time": "2024-12-11T16:43:49.536761Z",
     "start_time": "2024-12-11T16:43:49.491724Z"
    }
   },
   "cell_type": "code",
   "source": [
    "# Enregistrer la police Arial\n",
    "pdfmetrics.registerFont(TTFont('Arial', 'arial.ttf'))\n",
    "pdfmetrics.registerFont(TTFont('Arial-Bold', 'arialbd.ttf'))  # Gras\n",
    "pdfmetrics.registerFont(TTFont('Arial-Italic', 'ariali.ttf'))  # Italique\n",
    "pdfmetrics.registerFont(TTFont('Arial-BoldItalic', 'arialbi.ttf'))  # Gras italique"
   ],
   "id": "c8fd88a056dbc66e",
   "outputs": [],
   "execution_count": 1906
  },
  {
   "metadata": {
    "ExecuteTime": {
     "end_time": "2024-12-11T16:43:49.556658Z",
     "start_time": "2024-12-11T16:43:49.551472Z"
    }
   },
   "cell_type": "code",
   "source": [
    "def get_title_style(\n",
    "    font_name=\"Arial-Bold\",\n",
    "    font_size=18,\n",
    "    font_color=\"black\",\n",
    "    alignment=0,  # 0 = left, 1 = center, 2 = right\n",
    "    line_spacing=1.15,\n",
    "    space_after=24,\n",
    "    space_before=12,\n",
    "    bold=True,\n",
    "):\n",
    "    return ParagraphStyle(\n",
    "        name=\"TitleStyle\",\n",
    "        fontName=font_name,\n",
    "        fontSize=font_size,\n",
    "        textColor=font_color,\n",
    "        alignment=alignment,\n",
    "        leading=font_size * line_spacing,  # Interligne basé sur la taille de police\n",
    "        spaceAfter=space_after,\n",
    "        spaceBefore=space_before,  # Pas d'espace avant le titre\n",
    "        fontWeight=\"bold\" if bold else \"normal\",\n",
    "    )\n"
   ],
   "id": "21a9b6e381160d99",
   "outputs": [],
   "execution_count": 1907
  },
  {
   "metadata": {},
   "cell_type": "markdown",
   "source": [
    "### b. **Sous-titres (ex. : SERVICES) :**\n",
    " - Taille moyenne (14 ou 16 points).\n",
    " - Police en gras ou avec un style particulier."
   ],
   "id": "5f1da56d20c39a5d"
  },
  {
   "metadata": {
    "ExecuteTime": {
     "end_time": "2024-12-11T16:43:49.576021Z",
     "start_time": "2024-12-11T16:43:49.569651Z"
    }
   },
   "cell_type": "code",
   "source": [
    "def get_subtitle_style(\n",
    "    font_name=\"Arial-Bold\",\n",
    "    font_size=14,\n",
    "    font_color=\"black\",\n",
    "    alignment=0,  # Alignement à gauche\n",
    "    line_spacing=1.15,\n",
    "    space_after=12,\n",
    "    space_before=12,\n",
    "    bold=True,\n",
    "):\n",
    "    return ParagraphStyle(\n",
    "        name=\"SubtitleStyle\",\n",
    "        fontName=font_name,\n",
    "        fontSize=font_size,\n",
    "        textColor=font_color,\n",
    "        alignment=alignment,\n",
    "        leading=font_size * line_spacing,\n",
    "        spaceAfter=space_after,\n",
    "        spaceBefore=space_before,\n",
    "        fontWeight=\"bold\" if bold else \"normal\",\n",
    "    )\n"
   ],
   "id": "e75431977200b787",
   "outputs": [],
   "execution_count": 1908
  },
  {
   "metadata": {},
   "cell_type": "markdown",
   "source": [
    "### c. **Texte normal (paragraphe) :**\n",
    " - Taille (12 points, standard pour les documents professionnels).\n",
    " - Police lisible (comme Times New Roman ou Helvetica). "
   ],
   "id": "72bdeaa95bd3c05a"
  },
  {
   "metadata": {
    "ExecuteTime": {
     "end_time": "2024-12-11T16:43:49.594388Z",
     "start_time": "2024-12-11T16:43:49.587894Z"
    }
   },
   "cell_type": "code",
   "source": [
    "def get_text_style(\n",
    "    font_name=\"Arial\",\n",
    "    font_size=14,\n",
    "    font_color=\"black\",\n",
    "    alignment=0,  # Alignement à gauche\n",
    "    line_spacing=1.15,\n",
    "    space_after=6,\n",
    "    space_before=12,\n",
    "    bold=False,\n",
    "):\n",
    "    return ParagraphStyle(\n",
    "        name=\"TextStyle\",\n",
    "        fontName=font_name,\n",
    "        fontSize=font_size,\n",
    "        textColor=font_color,\n",
    "        alignment=alignment,\n",
    "        leading=line_spacing * font_size,\n",
    "        spaceAfter=space_after,\n",
    "        spaceBefore=space_before,\n",
    "        fontWeight=\"bold\" if bold else \"normal\",\n",
    "    )\n"
   ],
   "id": "14ff5873bf953749",
   "outputs": [],
   "execution_count": 1909
  },
  {
   "metadata": {},
   "cell_type": "markdown",
   "source": [
    "## 2. **Définissez les espacements :**\n",
    "- Entre un titre et un paragraphe : spaceAfter=24 points pour donner un grand espacement.\n",
    "- Entre les lignes de texte : Utilisation de l'interligne de 1.15x pour le texte normal (ajustable avec line_spacing).\n",
    "- Espacement après les paragraphes : Par défaut, 6 points pour éviter que le texte suivant soit trop près.\n"
   ],
   "id": "d018239e84bc5a2f"
  },
  {
   "metadata": {},
   "cell_type": "markdown",
   "source": "# **Étape 4 : Ajouter les champs dynamiques**\n",
   "id": "67b4d73c0f1da471"
  },
  {
   "metadata": {},
   "cell_type": "markdown",
   "source": [
    "# **Étape 5 : Ajouter les numéros de page**\n",
    "1. **Décidez où afficher les numéros de page :**\n",
    "   - En-tête ou pied de page ?\n",
    "   - Alignez-les à droite, à gauche ou au centre ?\n",
    "2. **Incluez un texte standard :**\n",
    "   - Exemple : \"Page X de Y\".\n",
    "3. **Réfléchissez à leur positionnement précis :**\n",
    "   - Mesurez combien d’espace laisser entre le numéro de page et le bord de la page (ex. : 0.5 pouce ou 36 points).\n"
   ],
   "id": "e7a870411a19e1a9"
  },
  {
   "metadata": {
    "ExecuteTime": {
     "end_time": "2024-12-11T16:43:49.613390Z",
     "start_time": "2024-12-11T16:43:49.607687Z"
    }
   },
   "cell_type": "code",
   "source": [
    "def page_footer(canvas, doc, pagesize=A4):\n",
    "    page_num = canvas.getPageNumber()\n",
    "    canvas.drawRightString(pagesize[0]/2, 20, \"Page {}\".format(page_num))\n"
   ],
   "id": "650f0e73ea8b5b23",
   "outputs": [],
   "execution_count": 1910
  },
  {
   "metadata": {},
   "cell_type": "markdown",
   "source": [
    "# **Étape 6 : Gérer les longues sections ou paragraphes**\n",
    "1. **Coupez un paragraphe si nécessaire :**\n",
    "   - Si un paragraphe est trop long, repérez une phrase ou une idée où vous pouvez le diviser naturellement.\n",
    "   - Placez la première partie dans une section ou une colonne, et la deuxième partie dans une nouvelle section ou colonne.\n",
    "\n",
    "2. **Vérifiez la lisibilité :**\n",
    "   - Assurez-vous que le texte divisé reste cohérent et fluide pour le lecteur.\n"
   ],
   "id": "cd8b5c2ae66a9ec8"
  },
  {
   "metadata": {
    "ExecuteTime": {
     "end_time": "2024-12-11T16:43:49.633737Z",
     "start_time": "2024-12-11T16:43:49.626743Z"
    }
   },
   "cell_type": "code",
   "source": [
    "def create_page_template(frames, a4_format=False, **kwargs):\n",
    "    \"\"\"\n",
    "    Crée un PageTemplate avec des cadres (Frames) spécifiés et un pied de page.\n",
    "\n",
    "    Arguments :\n",
    "        frames (Frame ou list[Frame]) : Un ou plusieurs objets Frame à inclure dans le PageTemplate.\n",
    "        a4_format (bool) : Si True, utilise le format A4 pour la taille de la page.\n",
    "        **kwargs : Taille personnalisée de la page (pagesize=(width, height)).\n",
    "\n",
    "    Retourne :\n",
    "        PageTemplate : Un objet PageTemplate configuré.\n",
    "    \n",
    "    Exceptions :\n",
    "        ValueError : Si frames ou pagesize est invalide.\n",
    "    \"\"\"\n",
    "    # Générer un identifiant unique pour le modèle de page\n",
    "    page_template_id = str(uuid.uuid4())  # Utilisation de uuid native\n",
    "\n",
    "    # Valider les frames\n",
    "    if isinstance(frames, (list, tuple)):\n",
    "        for frame in frames:\n",
    "            if not isinstance(frame, Frame):\n",
    "                raise ValueError(\"All frames must be instances of Frame.\")\n",
    "    elif not isinstance(frames, Frame):\n",
    "        raise ValueError(\"Frame must be of type Frame.\")\n",
    "\n",
    "    # Si le format A4 est demandé\n",
    "    if a4_format:\n",
    "        return PageTemplate(id=page_template_id, frames=frames, onPage=page_footer, pagesize=A4)\n",
    "    \n",
    "    # Vérifier la taille de page personnalisée\n",
    "    page_size = kwargs.get('pagesize', None)\n",
    "    if not isinstance(page_size, (tuple, list)) or len(page_size) != 2 or not all(isinstance(x, (float, int)) for x in page_size):\n",
    "        raise ValueError(\"Page size must be a tuple or list of two numbers (width, height).\")\n",
    "    \n",
    "    # Retourner le PageTemplate avec la taille personnalisée\n",
    "    return PageTemplate(id=page_template_id, frames=frames, onPage=page_footer, pagesize=page_size)\n"
   ],
   "id": "d16581e9c9d8cec6",
   "outputs": [],
   "execution_count": 1911
  },
  {
   "metadata": {
    "ExecuteTime": {
     "end_time": "2024-12-11T16:43:49.652048Z",
     "start_time": "2024-12-11T16:43:49.646056Z"
    }
   },
   "cell_type": "code",
   "source": [
    "# Initialisation des styles\n",
    "styles = getSampleStyleSheet()\n",
    "\n",
    "# Titre principal\n",
    "title_style = get_title_style(bold=True)\n",
    "styles.add(title_style)\n",
    "\n",
    "# Sous-titres\n",
    "subtitle_style = get_subtitle_style(bold=True, space_before=32, space_after=32)\n",
    "styles.add(subtitle_style)\n",
    "\n",
    "# Texte normal (paragraphe)\n",
    "text_style = get_text_style(space_after=0, space_before=0, line_spacing=1.5, font_size=14)\n",
    "styles.add(text_style)\n",
    "\n",
    "# Intro Style\n",
    "intro_style =ParagraphStyle(\n",
    "        name=\"IntroStyle\",\n",
    "        fontName=\"Arial\",\n",
    "        fontSize=14,\n",
    "        textColor=\"black\",\n",
    "        alignment=0,\n",
    "        leading=1.5 * 14,\n",
    "        spaceAfter=6,\n",
    "        spaceBefore=12,\n",
    "        fontWeight=\"normal\",\n",
    "    )\n",
    "styles.add(intro_style)"
   ],
   "id": "f36cbc91ec23c421",
   "outputs": [],
   "execution_count": 1912
  },
  {
   "metadata": {
    "ExecuteTime": {
     "end_time": "2024-12-11T16:43:49.704954Z",
     "start_time": "2024-12-11T16:43:49.664313Z"
    }
   },
   "cell_type": "code",
   "source": [
    "elements = []\n",
    "fake = Faker()\n",
    "# Fonction générique pour ajouter une section\n",
    "def add_section(elements, title, content, subtitle_style, text_style):\n",
    "    \"\"\"\n",
    "    Ajoute une section au PDF.\n",
    "    \n",
    "    Arguments :\n",
    "        elements (list) : Liste des éléments pour le PDF.\n",
    "        title (str) : Titre de la section.\n",
    "        content (str) : Contenu de la section.\n",
    "        subtitle_style : Style pour le titre de la section.\n",
    "        text_style : Style pour le contenu de la section.\n",
    "    \"\"\"\n",
    "    elements.append(Paragraph(title, subtitle_style))\n",
    "    # elements.append(Spacer(1, 12))  # Espace après le titre\n",
    "    elements.append(Paragraph(content, text_style))\n",
    "    # elements.append(Spacer(1, 24))  # Espace après le contenu\n",
    "\n",
    "# **Titre Principal**\n",
    "elements.append(Paragraph(\n",
    "    \"Contrat Commercial\", \n",
    "    styles['TitleStyle']\n",
    "))\n",
    "\n",
    "# Ajouter une ligne sous le texte avec des tirets\n",
    "elements.append(Paragraph(\"<u>_________________________________________________________</u>\", styles['TextStyle']))\n",
    "\n",
    "# Ajouter un espacement\n",
    "elements.append(Spacer(1, 24))\n",
    "\n",
    "# **Introduction**\n",
    "intro_data = {\n",
    "    'company_name': fake.company(),\n",
    "    'company_status': \"Société Anonyme (SA)\",\n",
    "    'company_jurisdiction': fake.country(),\n",
    "    'company_address': fake.address(),\n",
    "    'client_name': fake.company(),\n",
    "    'client_status': \"SA\",\n",
    "    'client_jurisdiction': fake.country(),\n",
    "    'client_address': fake.address()\n",
    "}\n",
    "\n",
    "introduction = intro(intro_data, styles)\n",
    "elements.extend(introduction)\n",
    "\n",
    "# Ajouter une ligne sous le texte avec des tirets\n",
    "elements.append(Paragraph(\"<u>_________________________________________________________</u>\", styles['TextStyle']))\n",
    "\n",
    "# Ajouter un espacement\n",
    "elements.append(Spacer(1, 24))\n",
    "\n",
    "# **Services**\n",
    "services_data = \"Assistance informatique, conseils stratégiques.\"\n",
    "services = services_section(services_data)\n",
    "add_section(elements, \"SERVICES\", services, styles['SubtitleStyle'], styles['TextStyle'])\n",
    "\n",
    "# **Terme**\n",
    "terme_data = \" 1 an\"\n",
    "terme = term_section(terme_data)\n",
    "add_section(elements, \"TERME\", terme, styles['SubtitleStyle'], styles['TextStyle'])\n",
    "\n",
    "# **Compensation**\n",
    "compensation_data = \"une rémunération mensuelle de 5000 € pour les services fournis.\"\n",
    "compensation = compensation_section(compensation_data)\n",
    "add_section(elements, \"COMPENSATION\", compensation, styles['SubtitleStyle'], styles['TextStyle'])\n",
    "\n",
    "# **Confidentialité**\n",
    "confidentiality_data = confidentiality_section()\n",
    "add_section(elements, \"CONFIDENTIALITÉ\", confidentiality_data, styles['SubtitleStyle'], styles['TextStyle'])\n",
    "\n",
    "# **Propriété Intellectuelle**\n",
    "intellectual_property_data = intellectual_property_section()\n",
    "add_section(elements, \"PROPRIÉTÉ INTELLECTUELLE\", intellectual_property_data, styles['SubtitleStyle'], styles['TextStyle'])\n",
    "\n",
    "# **Terminaison**\n",
    "termination_section_data = {\n",
    "    'termination_notice': 30,\n",
    "    'termination_remedy': 15\n",
    "}\n",
    "termination_data = termination_section(termination_section_data)\n",
    "add_section(elements, \"TERMINAISON\", termination_data, styles['SubtitleStyle'], styles['TextStyle'])\n",
    "\n",
    "# **Limitation de Responsabilité**\n",
    "limitation_responsabilite_data = limitation_responsabilite_section()\n",
    "add_section(elements, \"LIMITATION DE RESPONSABILITÉ\", limitation_responsabilite_data, styles['SubtitleStyle'], styles['TextStyle'])\n",
    "\n",
    "# **Loi Applicable**\n",
    "law_data = {\n",
    "    'applicable_law': \"France\",\n",
    "    'arbitration_rules': \"CCI (Chambre de Commerce Internationale)\"\n",
    "}\n",
    "law_data_content = law_section(law_data)\n",
    "add_section(elements, \"LOI APPLICABLE\", law_data_content, styles['SubtitleStyle'], styles['TextStyle'])\n",
    "\n",
    "# **Accord Intégral**\n",
    "accord_integral_data = accord_integral_section()\n",
    "add_section(elements, \"ACCORD INTÉGRAL\", accord_integral_data, styles['SubtitleStyle'], styles['TextStyle'])\n",
    "\n",
    "# **Affectation**\n",
    "affectation_data = affectation_section()\n",
    "add_section(elements, \"AFFECTATION\", affectation_data, styles['SubtitleStyle'], styles['TextStyle'])\n",
    "\n",
    "# **Divisibilité**\n",
    "divisibilite_data = divisibilite_section()\n",
    "add_section(elements, \"DIVISIBILITÉ\", divisibilite_data, styles['SubtitleStyle'], styles['TextStyle'])\n",
    "\n",
    "# Signatures\n",
    "# Données pour la section des signatures\n",
    "signatures_data = {\n",
    "    'company_name': 'XYZ Corp',\n",
    "    'company_email': 'contact@xyzcorp.com',\n",
    "    'company_address': '123 rue de Paris, 75001 Paris, France',\n",
    "    'company_registration': 'FR123456789',\n",
    "    'client_name': 'John Doe',\n",
    "    'client_email': 'johndoe@example.com',\n",
    "    'client_address': '456 avenue de Lyon, 69000 Lyon, France'\n",
    "}\n",
    "\n",
    "# Générer les paragraphes pour les signatures\n",
    "signature_paragraphs = generate_signatures_section(signatures_data, signature_styles, styles)\n",
    "\n",
    "# Ajouter les paragraphes au document\n",
    "elements.extend(signature_paragraphs)\n",
    "\n"
   ],
   "id": "f28e2c0aadf4ba30",
   "outputs": [],
   "execution_count": 1913
  },
  {
   "metadata": {
    "ExecuteTime": {
     "end_time": "2024-12-11T16:43:49.748197Z",
     "start_time": "2024-12-11T16:43:49.717779Z"
    }
   },
   "cell_type": "code",
   "source": [
    "padding_values = padding(left_padding=1, right_padding=1, top_padding=1, bottom_padding=1.3)\n",
    "frames = create_frame(padding_values, True)\n",
    "page_template = create_page_template(frames, True)\n",
    "margins_values = margins(left_pargin=9.75, right_pargin=19.75)\n",
    "base_doc = BaseDocTemplate(\"contrat_comercial.pdf\", pageTemplates=[page_template])\n",
    "base_doc.build(elements)"
   ],
   "id": "7f29b22b8fecf6f1",
   "outputs": [],
   "execution_count": 1914
  }
 ],
 "metadata": {
  "kernelspec": {
   "display_name": "Python 3",
   "language": "python",
   "name": "python3"
  },
  "language_info": {
   "codemirror_mode": {
    "name": "ipython",
    "version": 2
   },
   "file_extension": ".py",
   "mimetype": "text/x-python",
   "name": "python",
   "nbconvert_exporter": "python",
   "pygments_lexer": "ipython2",
   "version": "2.7.6"
  }
 },
 "nbformat": 4,
 "nbformat_minor": 5
}
